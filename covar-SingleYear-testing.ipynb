{
 "cells": [
  {
   "cell_type": "code",
   "execution_count": null,
   "metadata": {
    "collapsed": true,
    "scrolled": true
   },
   "outputs": [],
   "source": [
    "import numpy as np\n",
    "import matplotlib.pyplot as plt\n",
    "import xarray as xr\n",
    "import os\n",
    "import pandas as pd\n",
    "%matplotlib inline\n",
    "from dask.diagnostics import ProgressBar"
   ]
  },
  {
   "cell_type": "code",
   "execution_count": null,
   "metadata": {},
   "outputs": [
    {
     "name": "stdout",
     "output_type": "stream",
     "text": [
      "[########################################] | 100% Completed |  0.1s\n",
      "[########################################] | 100% Completed |  0.1s\n",
      "[########################################] | 100% Completed |  0.1s\n",
      "[########################################] | 100% Completed |  0.1s\n",
      "[########################################] | 100% Completed |  0.1s\n",
      "[########################################] | 100% Completed |  0.1s\n",
      "[###############################         ] | 79% Completed | 18.6s"
     ]
    }
   ],
   "source": [
    "# Uncomment next line for cheyenne:\n",
    "#dir_base = '/glade/p/CMIP/CMIP5/output1/'\n",
    "dir_base = './'\n",
    "\n",
    "center = \"NCAR\"; model = \"CCSM4\"\n",
    "scenario = \"historical\"\n",
    "freq = \"6hr\"; realm = \"atmos\"; dtype = \"6hrLev\"\n",
    "\n",
    "ddir = dir_base+center+'/'+model+'/'+scenario+'/'+freq+'/'+realm+'/'+dtype+'/'\n",
    "\n",
    "# loop over ensemble members\n",
    "for ens in os.listdir(ddir):\n",
    "# lets pick a year for testing\n",
    "    syear = str(1960)\n",
    "    sdir = ddir+ens+'/latest/'\n",
    "    tdir = '_6hrLev_'+model+'_'+scenario+'_'+ens+'_'\n",
    "# all variables in all files for this year:\n",
    "    fullyear = sdir+'*/*'+tdir+syear+'*.nc'\n",
    "    with ProgressBar():\n",
    "        ds = xr.open_mfdataset(fullyear)\n",
    "        qu = ds.hus*ds.ua\n",
    "        qv = ds.hus*ds.va\n",
    "        dsm = ds.groupby('time.month').mean('time')\n",
    "        dsm['qum']= qu.groupby('time.month').mean('time') - dsm.hus * dsm.ua\n",
    "        dsm['qvm']= qv.groupby('time.month').mean('time') - dsm.hus * dsm.va\n",
    "        dsm.to_netcdf('./output/monthly-'+ens+'.nc')\n",
    "    "
   ]
  },
  {
   "cell_type": "code",
   "execution_count": 4,
   "metadata": {},
   "outputs": [
    {
     "data": {
      "text/plain": [
       "<xarray.DataArray 'month' (month: 12)>\n",
       "array([ 1,  2,  3,  4,  5,  6,  7,  8,  9, 10, 11, 12])\n",
       "Coordinates:\n",
       "  * month    (month) int64 1 2 3 4 5 6 7 8 9 10 11 12"
      ]
     },
     "execution_count": 4,
     "metadata": {},
     "output_type": "execute_result"
    }
   ],
   "source": [
    "dsm.month\n",
    "# how to change time coordinate to datetime? preserve the year?"
   ]
  },
  {
   "cell_type": "code",
   "execution_count": 7,
   "metadata": {},
   "outputs": [
    {
     "data": {
      "text/plain": [
       "1979-01-31    0.130752\n",
       "1979-02-28   -0.163251\n",
       "1979-03-31    0.192035\n",
       "1979-04-30    0.040189\n",
       "1979-05-31   -0.162213\n",
       "1979-06-30   -0.091121\n",
       "1979-07-31    0.177308\n",
       "1979-08-31   -0.026541\n",
       "1979-09-30   -0.009021\n",
       "1979-10-31    0.566593\n",
       "1979-11-30   -0.061222\n",
       "1979-12-31    0.126624\n",
       "Freq: M, dtype: float64"
      ]
     },
     "execution_count": 7,
     "metadata": {},
     "output_type": "execute_result"
    }
   ],
   "source": [
    "\"\"\"  other questions:\n",
    "1. how to remove a dataarray from a dataset?\n",
    "2. how to get the monthly mean to be at middle of month:\n",
    " for example, create a fake time series and create monthly mean \n",
    "    and more generally\n",
    "3. how to replace coordinates of a dimension\n",
    "\"\"\"\n",
    "\n",
    "rng = pd.date_range('1979-01-01T00:00:00', periods=365, freq='D')\n",
    "ts = pd.Series(np.random.randn(len(rng)), index=rng)\n",
    "ts.resample('M').mean()\n"
   ]
  },
  {
   "cell_type": "code",
   "execution_count": null,
   "metadata": {
    "collapsed": true
   },
   "outputs": [],
   "source": []
  }
 ],
 "metadata": {
  "kernelspec": {
   "display_name": "Python 3",
   "language": "python",
   "name": "python3"
  },
  "language_info": {
   "codemirror_mode": {
    "name": "ipython",
    "version": 3
   },
   "file_extension": ".py",
   "mimetype": "text/x-python",
   "name": "python",
   "nbconvert_exporter": "python",
   "pygments_lexer": "ipython3",
   "version": "3.6.2"
  }
 },
 "nbformat": 4,
 "nbformat_minor": 2
}
